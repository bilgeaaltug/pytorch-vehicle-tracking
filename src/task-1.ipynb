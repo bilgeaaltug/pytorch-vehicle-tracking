{
 "cells": [
  {
   "cell_type": "code",
   "execution_count": 1,
   "id": "42994623",
   "metadata": {
    "execution": {
     "iopub.execute_input": "2025-09-29T06:25:58.956884Z",
     "iopub.status.busy": "2025-09-29T06:25:58.956622Z",
     "iopub.status.idle": "2025-09-29T06:31:43.191739Z",
     "shell.execute_reply": "2025-09-29T06:31:43.190602Z"
    },
    "papermill": {
     "duration": 344.240293,
     "end_time": "2025-09-29T06:31:43.193017",
     "exception": false,
     "start_time": "2025-09-29T06:25:58.952724",
     "status": "completed"
    },
    "tags": []
   },
   "outputs": [
    {
     "name": "stdout",
     "output_type": "stream",
     "text": [
      "Kullanılacak Cihaz: cuda\n"
     ]
    },
    {
     "name": "stderr",
     "output_type": "stream",
     "text": [
      "100%|██████████| 170M/170M [00:04<00:00, 35.7MB/s]\n"
     ]
    },
    {
     "name": "stdout",
     "output_type": "stream",
     "text": [
      "CIFAR10Classifier(\n",
      "  (features): Sequential(\n",
      "    (0): Conv2d(3, 32, kernel_size=(3, 3), stride=(1, 1), padding=(1, 1))\n",
      "    (1): BatchNorm2d(32, eps=1e-05, momentum=0.1, affine=True, track_running_stats=True)\n",
      "    (2): ReLU()\n",
      "    (3): MaxPool2d(kernel_size=2, stride=2, padding=0, dilation=1, ceil_mode=False)\n",
      "    (4): Conv2d(32, 64, kernel_size=(3, 3), stride=(1, 1), padding=(1, 1))\n",
      "    (5): BatchNorm2d(64, eps=1e-05, momentum=0.1, affine=True, track_running_stats=True)\n",
      "    (6): ReLU()\n",
      "    (7): MaxPool2d(kernel_size=2, stride=2, padding=0, dilation=1, ceil_mode=False)\n",
      "    (8): Conv2d(64, 128, kernel_size=(3, 3), stride=(1, 1), padding=(1, 1))\n",
      "    (9): BatchNorm2d(128, eps=1e-05, momentum=0.1, affine=True, track_running_stats=True)\n",
      "    (10): ReLU()\n",
      "    (11): MaxPool2d(kernel_size=2, stride=2, padding=0, dilation=1, ceil_mode=False)\n",
      "  )\n",
      "  (classifier): Sequential(\n",
      "    (0): Flatten(start_dim=1, end_dim=-1)\n",
      "    (1): Dropout(p=0.5, inplace=False)\n",
      "    (2): Linear(in_features=2048, out_features=256, bias=True)\n",
      "    (3): ReLU()\n",
      "    (4): Dropout(p=0.5, inplace=False)\n",
      "    (5): Linear(in_features=256, out_features=10, bias=True)\n",
      "  )\n",
      ")\n",
      "Eğitim Başlatılıyor...\n"
     ]
    },
    {
     "name": "stderr",
     "output_type": "stream",
     "text": [
      "                                                           \r"
     ]
    },
    {
     "name": "stdout",
     "output_type": "stream",
     "text": [
      "Epoch 1/30 | Train Loss: 1.7151, Train Acc: 0.3616 | Val Loss: 1.3930, Val Acc: 0.4898\n",
      "  -> Model 'cifar10_classifier.pth' olarak kaydedildi.\n"
     ]
    },
    {
     "name": "stderr",
     "output_type": "stream",
     "text": [
      "                                                           \r"
     ]
    },
    {
     "name": "stdout",
     "output_type": "stream",
     "text": [
      "Epoch 2/30 | Train Loss: 1.4411, Train Acc: 0.4689 | Val Loss: 1.3119, Val Acc: 0.5304\n",
      "  -> Model 'cifar10_classifier.pth' olarak kaydedildi.\n"
     ]
    },
    {
     "name": "stderr",
     "output_type": "stream",
     "text": [
      "                                                           \r"
     ]
    },
    {
     "name": "stdout",
     "output_type": "stream",
     "text": [
      "Epoch 3/30 | Train Loss: 1.3308, Train Acc: 0.5174 | Val Loss: 1.0777, Val Acc: 0.6168\n",
      "  -> Model 'cifar10_classifier.pth' olarak kaydedildi.\n"
     ]
    },
    {
     "name": "stderr",
     "output_type": "stream",
     "text": [
      "                                                           \r"
     ]
    },
    {
     "name": "stdout",
     "output_type": "stream",
     "text": [
      "Epoch 4/30 | Train Loss: 1.2473, Train Acc: 0.5510 | Val Loss: 1.0246, Val Acc: 0.6342\n",
      "  -> Model 'cifar10_classifier.pth' olarak kaydedildi.\n"
     ]
    },
    {
     "name": "stderr",
     "output_type": "stream",
     "text": [
      "                                                           \r"
     ]
    },
    {
     "name": "stdout",
     "output_type": "stream",
     "text": [
      "Epoch 5/30 | Train Loss: 1.1956, Train Acc: 0.5699 | Val Loss: 0.9726, Val Acc: 0.6550\n",
      "  -> Model 'cifar10_classifier.pth' olarak kaydedildi.\n"
     ]
    },
    {
     "name": "stderr",
     "output_type": "stream",
     "text": [
      "                                                           \r"
     ]
    },
    {
     "name": "stdout",
     "output_type": "stream",
     "text": [
      "Epoch 6/30 | Train Loss: 1.1582, Train Acc: 0.5849 | Val Loss: 0.9251, Val Acc: 0.6740\n",
      "  -> Model 'cifar10_classifier.pth' olarak kaydedildi.\n"
     ]
    },
    {
     "name": "stderr",
     "output_type": "stream",
     "text": [
      "                                                           \r"
     ]
    },
    {
     "name": "stdout",
     "output_type": "stream",
     "text": [
      "Epoch 7/30 | Train Loss: 1.1212, Train Acc: 0.6038 | Val Loss: 0.8921, Val Acc: 0.6918\n",
      "  -> Model 'cifar10_classifier.pth' olarak kaydedildi.\n"
     ]
    },
    {
     "name": "stderr",
     "output_type": "stream",
     "text": [
      "                                                           \r"
     ]
    },
    {
     "name": "stdout",
     "output_type": "stream",
     "text": [
      "Epoch 8/30 | Train Loss: 1.0967, Train Acc: 0.6090 | Val Loss: 0.8557, Val Acc: 0.6948\n",
      "  -> Model 'cifar10_classifier.pth' olarak kaydedildi.\n"
     ]
    },
    {
     "name": "stderr",
     "output_type": "stream",
     "text": [
      "                                                           \r"
     ]
    },
    {
     "name": "stdout",
     "output_type": "stream",
     "text": [
      "Epoch 9/30 | Train Loss: 1.0672, Train Acc: 0.6225 | Val Loss: 0.8517, Val Acc: 0.6994\n",
      "  -> Model 'cifar10_classifier.pth' olarak kaydedildi.\n"
     ]
    },
    {
     "name": "stderr",
     "output_type": "stream",
     "text": [
      "                                                           \r"
     ]
    },
    {
     "name": "stdout",
     "output_type": "stream",
     "text": [
      "Epoch 10/30 | Train Loss: 1.0472, Train Acc: 0.6304 | Val Loss: 0.8773, Val Acc: 0.6802\n"
     ]
    },
    {
     "name": "stderr",
     "output_type": "stream",
     "text": [
      "                                                           \r"
     ]
    },
    {
     "name": "stdout",
     "output_type": "stream",
     "text": [
      "Epoch 11/30 | Train Loss: 0.9890, Train Acc: 0.6502 | Val Loss: 0.7561, Val Acc: 0.7310\n",
      "  -> Model 'cifar10_classifier.pth' olarak kaydedildi.\n"
     ]
    },
    {
     "name": "stderr",
     "output_type": "stream",
     "text": [
      "                                                           \r"
     ]
    },
    {
     "name": "stdout",
     "output_type": "stream",
     "text": [
      "Epoch 12/30 | Train Loss: 0.9741, Train Acc: 0.6586 | Val Loss: 0.7498, Val Acc: 0.7342\n",
      "  -> Model 'cifar10_classifier.pth' olarak kaydedildi.\n"
     ]
    },
    {
     "name": "stderr",
     "output_type": "stream",
     "text": [
      "                                                           \r"
     ]
    },
    {
     "name": "stdout",
     "output_type": "stream",
     "text": [
      "Epoch 13/30 | Train Loss: 0.9608, Train Acc: 0.6631 | Val Loss: 0.7446, Val Acc: 0.7364\n",
      "  -> Model 'cifar10_classifier.pth' olarak kaydedildi.\n"
     ]
    },
    {
     "name": "stderr",
     "output_type": "stream",
     "text": [
      "                                                           \r"
     ]
    },
    {
     "name": "stdout",
     "output_type": "stream",
     "text": [
      "Epoch 14/30 | Train Loss: 0.9551, Train Acc: 0.6637 | Val Loss: 0.7395, Val Acc: 0.7396\n",
      "  -> Model 'cifar10_classifier.pth' olarak kaydedildi.\n"
     ]
    },
    {
     "name": "stderr",
     "output_type": "stream",
     "text": [
      "                                                           \r"
     ]
    },
    {
     "name": "stdout",
     "output_type": "stream",
     "text": [
      "Epoch 15/30 | Train Loss: 0.9485, Train Acc: 0.6682 | Val Loss: 0.7410, Val Acc: 0.7336\n"
     ]
    },
    {
     "name": "stderr",
     "output_type": "stream",
     "text": [
      "                                                           \r"
     ]
    },
    {
     "name": "stdout",
     "output_type": "stream",
     "text": [
      "Epoch 16/30 | Train Loss: 0.9465, Train Acc: 0.6680 | Val Loss: 0.7372, Val Acc: 0.7398\n",
      "  -> Model 'cifar10_classifier.pth' olarak kaydedildi.\n"
     ]
    },
    {
     "name": "stderr",
     "output_type": "stream",
     "text": [
      "                                                           \r"
     ]
    },
    {
     "name": "stdout",
     "output_type": "stream",
     "text": [
      "Epoch 17/30 | Train Loss: 0.9475, Train Acc: 0.6686 | Val Loss: 0.7359, Val Acc: 0.7378\n"
     ]
    },
    {
     "name": "stderr",
     "output_type": "stream",
     "text": [
      "                                                           \r"
     ]
    },
    {
     "name": "stdout",
     "output_type": "stream",
     "text": [
      "Epoch 18/30 | Train Loss: 0.9405, Train Acc: 0.6680 | Val Loss: 0.7299, Val Acc: 0.7402\n",
      "  -> Model 'cifar10_classifier.pth' olarak kaydedildi.\n"
     ]
    },
    {
     "name": "stderr",
     "output_type": "stream",
     "text": [
      "                                                           \r"
     ]
    },
    {
     "name": "stdout",
     "output_type": "stream",
     "text": [
      "Epoch 19/30 | Train Loss: 0.9303, Train Acc: 0.6720 | Val Loss: 0.7272, Val Acc: 0.7428\n",
      "  -> Model 'cifar10_classifier.pth' olarak kaydedildi.\n"
     ]
    },
    {
     "name": "stderr",
     "output_type": "stream",
     "text": [
      "                                                           \r"
     ]
    },
    {
     "name": "stdout",
     "output_type": "stream",
     "text": [
      "Epoch 20/30 | Train Loss: 0.9288, Train Acc: 0.6729 | Val Loss: 0.7284, Val Acc: 0.7426\n"
     ]
    },
    {
     "name": "stderr",
     "output_type": "stream",
     "text": [
      "                                                           \r"
     ]
    },
    {
     "name": "stdout",
     "output_type": "stream",
     "text": [
      "Epoch 21/30 | Train Loss: 0.9248, Train Acc: 0.6752 | Val Loss: 0.7172, Val Acc: 0.7498\n",
      "  -> Model 'cifar10_classifier.pth' olarak kaydedildi.\n"
     ]
    },
    {
     "name": "stderr",
     "output_type": "stream",
     "text": [
      "                                                           \r"
     ]
    },
    {
     "name": "stdout",
     "output_type": "stream",
     "text": [
      "Epoch 22/30 | Train Loss: 0.9223, Train Acc: 0.6746 | Val Loss: 0.7162, Val Acc: 0.7464\n"
     ]
    },
    {
     "name": "stderr",
     "output_type": "stream",
     "text": [
      "                                                           \r"
     ]
    },
    {
     "name": "stdout",
     "output_type": "stream",
     "text": [
      "Epoch 23/30 | Train Loss: 0.9256, Train Acc: 0.6734 | Val Loss: 0.7172, Val Acc: 0.7488\n"
     ]
    },
    {
     "name": "stderr",
     "output_type": "stream",
     "text": [
      "                                                           \r"
     ]
    },
    {
     "name": "stdout",
     "output_type": "stream",
     "text": [
      "Epoch 24/30 | Train Loss: 0.9222, Train Acc: 0.6770 | Val Loss: 0.7148, Val Acc: 0.7486\n"
     ]
    },
    {
     "name": "stderr",
     "output_type": "stream",
     "text": [
      "                                                           \r"
     ]
    },
    {
     "name": "stdout",
     "output_type": "stream",
     "text": [
      "Epoch 25/30 | Train Loss: 0.9238, Train Acc: 0.6759 | Val Loss: 0.7158, Val Acc: 0.7496\n"
     ]
    },
    {
     "name": "stderr",
     "output_type": "stream",
     "text": [
      "                                                           \r"
     ]
    },
    {
     "name": "stdout",
     "output_type": "stream",
     "text": [
      "Epoch 26/30 | Train Loss: 0.9202, Train Acc: 0.6750 | Val Loss: 0.7147, Val Acc: 0.7494\n"
     ]
    },
    {
     "name": "stderr",
     "output_type": "stream",
     "text": [
      "                                                           \r"
     ]
    },
    {
     "name": "stdout",
     "output_type": "stream",
     "text": [
      "Epoch 27/30 | Train Loss: 0.9203, Train Acc: 0.6747 | Val Loss: 0.7134, Val Acc: 0.7482\n"
     ]
    },
    {
     "name": "stderr",
     "output_type": "stream",
     "text": [
      "                                                           \r"
     ]
    },
    {
     "name": "stdout",
     "output_type": "stream",
     "text": [
      "Epoch 28/30 | Train Loss: 0.9148, Train Acc: 0.6793 | Val Loss: 0.7143, Val Acc: 0.7500\n",
      "  -> Model 'cifar10_classifier.pth' olarak kaydedildi.\n"
     ]
    },
    {
     "name": "stderr",
     "output_type": "stream",
     "text": [
      "                                                           \r"
     ]
    },
    {
     "name": "stdout",
     "output_type": "stream",
     "text": [
      "Epoch 29/30 | Train Loss: 0.9240, Train Acc: 0.6754 | Val Loss: 0.7135, Val Acc: 0.7510\n",
      "  -> Model 'cifar10_classifier.pth' olarak kaydedildi.\n"
     ]
    },
    {
     "name": "stderr",
     "output_type": "stream",
     "text": [
      "                                                           \r"
     ]
    },
    {
     "name": "stdout",
     "output_type": "stream",
     "text": [
      "Epoch 30/30 | Train Loss: 0.9218, Train Acc: 0.6792 | Val Loss: 0.7136, Val Acc: 0.7480\n",
      "Eğitim Tamamlandı!\n"
     ]
    },
    {
     "data": {
      "image/png": "[encoded data removed]",
      "text/plain": [
       "<Figure size 1200x500 with 2 Axes>"
      ]
     },
     "metadata": {},
     "output_type": "display_data"
    },
    {
     "name": "stdout",
     "output_type": "stream",
     "text": [
      "En iyi model test seti üzerinde değerlendiriliyor...\n"
     ]
    },
    {
     "name": "stderr",
     "output_type": "stream",
     "text": [
      "                                                           "
     ]
    },
    {
     "name": "stdout",
     "output_type": "stream",
     "text": [
      "\n",
      "Test Seti Doğruluğu: 0.7506\n",
      "Test Seti Kaybı: 0.7115\n"
     ]
    },
    {
     "name": "stderr",
     "output_type": "stream",
     "text": [
      "\r"
     ]
    }
   ],
   "source": [
    "# ====================================================================\n",
    "# GÖREV 1: CIFAR-10 VERİ SETİ İLE GÖRÜNTÜ SINIFLANDIRMA\n",
    "# ====================================================================\n",
    "\n",
    "# --- Gerekli Kütüphanelerin İçe Aktarılması ---\n",
    "import os\n",
    "import random\n",
    "import numpy as np\n",
    "import torch\n",
    "import torch.nn as nn\n",
    "import torch.optim as optim\n",
    "from torch.utils.data import DataLoader, Subset\n",
    "import torchvision\n",
    "import torchvision.transforms as transforms\n",
    "import matplotlib.pyplot as plt\n",
    "from tqdm import tqdm # Eğitim sırasında ilerlemeyi gösteren bar için\n",
    "\n",
    "# --- 1) Projenin Tekrarlanabilirliği ve Cihaz Ayarları ---\n",
    "# Projenin her çalıştırıldığında aynı sonuçları vermesi için rastgelelik kaynaklarını sabitliyoruz.\n",
    "seed = 42\n",
    "random.seed(seed)\n",
    "np.random.seed(seed)\n",
    "torch.manual_seed(seed)\n",
    "\n",
    "# Eğitim için uygun cihazı seçiyoruz (varsa GPU, yoksa CPU).\n",
    "device = torch.device(\"cuda\" if torch.cuda.is_available() else \"cpu\")\n",
    "print(f\"Kullanılacak Cihaz: {device}\")\n",
    "\n",
    "\n",
    "# --- 2) Veri Seti Ayarları ve Transformasyonlar ---\n",
    "# CIFAR-10 veri setinin standart ortalama ve standart sapma değerleri.\n",
    "# Bu değerler, görselleri normalize ederek modelin daha hızlı ve stabil öğrenmesine yardımcı olur.\n",
    "mean = [0.4914, 0.4822, 0.4465]\n",
    "std  = [0.2470, 0.2435, 0.2616]\n",
    "\n",
    "# Eğitim verisine uygulanacak veri artırımı (data augmentation) ve normalizasyon adımları.\n",
    "# Veri artırımı, modelin aynı resmi farklı versiyonlarda (dönmüş, kırpılmış vb.) görerek\n",
    "# genelleme yeteneğini artırmasını ve ezberlemesini (overfitting) engeller.\n",
    "transform_train = transforms.Compose([\n",
    "    transforms.RandomCrop(32, padding=4),      # Resmi rastgele kırp\n",
    "    transforms.RandomHorizontalFlip(),         # Resmi rastgele yatay çevir\n",
    "    transforms.RandomRotation(10),             # Resmi rastgele +/- 10 derece döndür\n",
    "    transforms.ToTensor(),                     # Resmi PyTorch tensörüne çevir\n",
    "    transforms.Normalize(mean, std),           # Standart değerlerle normalize et\n",
    "])\n",
    "\n",
    "# Validasyon ve test verisine sadece temel transformasyonlar uygulanır.\n",
    "# Bu setler üzerinde veri artırımı yapılmaz çünkü modelin gerçek dünya performansını\n",
    "# değiştirilmemiş veriler üzerinde ölçmek isteriz.\n",
    "transform_test = transforms.Compose([\n",
    "    transforms.ToTensor(),\n",
    "    transforms.Normalize(mean, std),\n",
    "])\n",
    "\n",
    "\n",
    "# --- 3) Veri Setinin Yüklenmesi ve Hazırlanması ---\n",
    "# Kaggle ortamında yazma izni olan `/kaggle/working/data` klasörüne veri setini indiriyoruz.\n",
    "data_root = \"/kaggle/working/data\"\n",
    "\n",
    "# Eğitim seti, veri artırımı uygulanmış transformasyonlarla yüklenir.\n",
    "train_aug_dataset = torchvision.datasets.CIFAR10(root=data_root, train=True, download=True, transform=transform_train)\n",
    "\n",
    "# Validasyon seti için veri artırımı olmayan (sadece normalize edilmiş) bir kopyasını oluşturuyoruz.\n",
    "# Bu, modelin gerçek performansını ölçmek için önemlidir.\n",
    "train_noaug_dataset = torchvision.datasets.CIFAR10(root=data_root, train=True, download=False, transform=transform_test)\n",
    "\n",
    "# Test seti yüklenir.\n",
    "test_dataset = torchvision.datasets.CIFAR10(root=data_root, train=False, download=True, transform=transform_test)\n",
    "\n",
    "# Eğitim setini %90 eğitim (%45k) ve %10 validasyon (%5k) olarak ayırıyoruz.\n",
    "# Validasyon seti, eğitim sırasında modelin performansını tarafsız bir şekilde izlememizi sağlar.\n",
    "indices = torch.randperm(len(train_aug_dataset)).tolist()\n",
    "train_idx, val_idx = indices[:45000], indices[45000:]\n",
    "\n",
    "train_subset = Subset(train_aug_dataset, train_idx)\n",
    "val_subset = Subset(train_noaug_dataset, val_idx) # Validasyon için veri artırımsız seti kullanıyoruz\n",
    "\n",
    "# DataLoader'lar, veriyi modele toplu (batch) halde ve karıştırarak (shuffle) beslememizi sağlar.\n",
    "train_loader = DataLoader(train_subset, batch_size=256, shuffle=True, num_workers=2)\n",
    "val_loader   = DataLoader(val_subset, batch_size=256, shuffle=False, num_workers=2)\n",
    "test_loader  = DataLoader(test_dataset, batch_size=256, shuffle=False, num_workers=2)\n",
    "\n",
    "\n",
    "# --- 4) Evrişimli Sinir Ağı (CNN) Modelinin Oluşturulması ---\n",
    "class CIFAR10Classifier(nn.Module):\n",
    "    \"\"\"\n",
    "    CIFAR-10 için sıfırdan oluşturulmuş basit bir CNN mimarisi.\n",
    "    \n",
    "    Mimari, 3 evrişimli katman (Conv2d + BatchNorm + ReLU + MaxPool) ve\n",
    "    2 tam bağlı katman (Linear + ReLU + Dropout) içerir.\n",
    "    BatchNorm, eğitimin stabilizasyonuna yardımcı olurken, Dropout aşırı öğrenmeyi\n",
    "    engellemek için kullanılır.\n",
    "    \"\"\"\n",
    "    def __init__(self, num_classes=10):\n",
    "        super().__init__()\n",
    "        # Özellik çıkarıcı katmanlar (Feature Extractor)\n",
    "        self.features = nn.Sequential(\n",
    "            # 1. Blok: 3x32x32 -> 32x16x16\n",
    "            nn.Conv2d(in_channels=3, out_channels=32, kernel_size=3, padding=1),\n",
    "            nn.BatchNorm2d(32),\n",
    "            nn.ReLU(),\n",
    "            nn.MaxPool2d(kernel_size=2, stride=2),\n",
    "            \n",
    "            # 2. Blok: 32x16x16 -> 64x8x8\n",
    "            nn.Conv2d(in_channels=32, out_channels=64, kernel_size=3, padding=1),\n",
    "            nn.BatchNorm2d(64),    \n",
    "            nn.ReLU(),\n",
    "            nn.MaxPool2d(kernel_size=2, stride=2),\n",
    "            \n",
    "            # 3. Blok: 64x8x8 -> 128x4x4\n",
    "            nn.Conv2d(in_channels=64, out_channels=128, kernel_size=3, padding=1),\n",
    "            nn.BatchNorm2d(128),  \n",
    "            nn.ReLU(),\n",
    "            nn.MaxPool2d(kernel_size=2, stride=2),\n",
    "        )\n",
    "        \n",
    "        # Sınıflandırıcı katmanlar (Classifier)\n",
    "        self.classifier = nn.Sequential(\n",
    "            nn.Flatten(), # Özellik haritalarını tek boyutlu vektöre düzleştir\n",
    "            nn.Dropout(0.5), # Nöronların %50'sini rastgele kapatarak ezberlemeyi önle\n",
    "            nn.Linear(in_features=128*4*4, out_features=256),\n",
    "            nn.ReLU(),\n",
    "            nn.Dropout(0.5),\n",
    "            nn.Linear(in_features=256, out_features=num_classes),\n",
    "        )\n",
    "        \n",
    "    def forward(self, x):\n",
    "        \"\"\"Modelin ileri besleme adımı.\"\"\"\n",
    "        x = self.features(x)\n",
    "        x = self.classifier(x)\n",
    "        return x\n",
    "\n",
    "# Modeli oluşturup seçilen cihaza (GPU/CPU) gönderiyoruz.\n",
    "model = CIFAR10Classifier().to(device)\n",
    "print(model)\n",
    "\n",
    "\n",
    "# --- 5) Kayıp Fonksiyonu ve Optimizer ---\n",
    "# Sınıflandırma problemi için standart olan Cross-Entropy Loss'u kullanıyoruz.\n",
    "criterion = nn.CrossEntropyLoss()\n",
    "\n",
    "# Modelin ağırlıklarını güncellemek için popüler bir optimizer olan Adam'ı seçiyoruz.\n",
    "optimizer = optim.Adam(model.parameters(), lr=1e-3)\n",
    "\n",
    "# Öğrenme oranını eğitim sırasında düşürmek için bir zamanlayıcı (scheduler) kullanıyoruz.\n",
    "# Bu, modelin en iyi noktaya daha iyi yakınsamasına yardımcı olur.\n",
    "scheduler = optim.lr_scheduler.StepLR(optimizer, step_size=10, gamma=0.1)\n",
    "\n",
    "\n",
    "# --- 6) Eğitim ve Değerlendirme Fonksiyonları ---\n",
    "def train_one_epoch(model, loader, criterion, optimizer):\n",
    "    \"\"\"Bir epoch boyunca modeli eğitir.\"\"\"\n",
    "    model.train() # Modeli eğitim moduna al (örn: Dropout aktif)\n",
    "    total_loss, correct, total = 0, 0, 0\n",
    "    \n",
    "    for x, y in tqdm(loader, leave=False, desc=\"Training\"):\n",
    "        x, y = x.to(device), y.to(device)\n",
    "        \n",
    "        optimizer.zero_grad() # Gradyanları sıfırla\n",
    "        out = model(x) # Tahmin yap\n",
    "        loss = criterion(out, y) # Kaybı hesapla\n",
    "        loss.backward() # Geriye yayılım\n",
    "        optimizer.step() # Ağırlıkları güncelle\n",
    "        \n",
    "        # İstatistikleri kaydet\n",
    "        total_loss += loss.item() * x.size(0)\n",
    "        pred = out.argmax(1)\n",
    "        correct += pred.eq(y).sum().item()\n",
    "        total += y.size(0)\n",
    "        \n",
    "    return total_loss / total, correct / total\n",
    "\n",
    "def evaluate(model, loader, criterion):\n",
    "    \"\"\"Modeli verilen veri yükleyici üzerinde değerlendirir.\"\"\"\n",
    "    model.eval() # Modeli değerlendirme moduna al (örn: Dropout pasif)\n",
    "    total_loss, correct, total = 0, 0, 0\n",
    "    \n",
    "    with torch.no_grad(): # Gradyan hesaplamasını kapatarak süreci hızlandır\n",
    "        for x, y in tqdm(loader, leave=False, desc=\"Evaluating\"):\n",
    "            x, y = x.to(device), y.to(device)\n",
    "            out = model(x)\n",
    "            loss = criterion(out, y)\n",
    "            \n",
    "            # İstatistikleri kaydet\n",
    "            total_loss += loss.item() * x.size(0)\n",
    "            pred = out.argmax(1)\n",
    "            correct += pred.eq(y).sum().item()\n",
    "            total += y.size(0)\n",
    "            \n",
    "    return total_loss / total, correct / total\n",
    "\n",
    "\n",
    "# --- 7) Ana Eğitim Döngüsü ---\n",
    "history = {\"train_loss\": [], \"val_loss\": [], \"train_acc\": [], \"val_acc\": []}\n",
    "best_acc = 0.0\n",
    "num_epochs = 30 # Toplam epoch sayısı\n",
    "\n",
    "print(\"Eğitim Başlatılıyor...\")\n",
    "for epoch in range(num_epochs): \n",
    "    # Bir epoch eğitim\n",
    "    tr_loss, tr_acc = train_one_epoch(model, train_loader, criterion, optimizer)\n",
    "    \n",
    "    # Bir epoch validasyon\n",
    "    val_loss, val_acc = evaluate(model, val_loader, criterion)\n",
    "    \n",
    "    # Öğrenme oranını güncelle\n",
    "    scheduler.step()\n",
    "\n",
    "    # Sonuçları kaydet\n",
    "    history[\"train_acc\"].append(tr_acc)\n",
    "    history[\"val_acc\"].append(val_acc)\n",
    "    history[\"train_loss\"].append(tr_loss)\n",
    "    history[\"val_loss\"].append(val_loss)\n",
    "    \n",
    "    print(f\"Epoch {epoch+1}/{num_epochs} | Train Loss: {tr_loss:.4f}, Train Acc: {tr_acc:.4f} | Val Loss: {val_loss:.4f}, Val Acc: {val_acc:.4f}\")\n",
    "    \n",
    "    # En iyi validasyon doğruluğuna sahip modeli kaydet\n",
    "    if val_acc > best_acc:\n",
    "        best_acc = val_acc\n",
    "        torch.save(model.state_dict(), \"cifar10_classifier.pth\") # <-- İSİM DEĞİŞTİ\n",
    "        print(f\"  -> Model 'cifar10_classifier.pth' olarak kaydedildi.\")\n",
    "\n",
    "print(\"Eğitim Tamamlandı!\")\n",
    "\n",
    "\n",
    "# --- 8) Sonuçların Grafiğe Dökülmesi ---\n",
    "# Eğitim sürecini görselleştirmek, modelin öğrenme dinamiklerini anlamak için önemlidir.\n",
    "plt.figure(figsize=(12, 5))\n",
    "plt.subplot(1, 2, 1)\n",
    "plt.plot(history[\"train_loss\"], label=\"Eğitim Kaybı\")\n",
    "plt.plot(history[\"val_loss\"], label=\"Validasyon Kaybı\")\n",
    "plt.legend(); plt.title(\"Kayıp (Loss) Grafiği\");\n",
    "plt.xlabel(\"Epoch\"); plt.ylabel(\"Loss\");\n",
    "\n",
    "plt.subplot(1, 2, 2)\n",
    "plt.plot(history[\"train_acc\"], label=\"Eğitim Doğruluğu\")\n",
    "plt.plot(history[\"val_acc\"], label=\"Validasyon Doğruluğu\")\n",
    "plt.legend(); plt.title(\"Doğruluk (Accuracy) Grafiği\");\n",
    "plt.xlabel(\"Epoch\"); plt.ylabel(\"Accuracy\");\n",
    "\n",
    "plt.tight_layout()\n",
    "plt.show()\n",
    "\n",
    "\n",
    "# --- 9) Test Seti ile Final Değerlendirme ---\n",
    "# En iyi modeli yükleyip, daha önce hiç görmediği test seti üzerinde nihai performansını ölçüyoruz.\n",
    "print(\"En iyi model test seti üzerinde değerlendiriliyor...\")\n",
    "model.load_state_dict(torch.load(\"cifar10_classifier.pth\", map_location=device)) # <-- İSİM DEĞİŞTİ\n",
    "test_loss, test_acc = evaluate(model, test_loader, criterion)\n",
    "print(f\"\\nTest Seti Doğruluğu: {test_acc:.4f}\")\n",
    "print(f\"Test Seti Kaybı: {test_loss:.4f}\")"
   ]
  }
 ],
 "metadata": {
  "kaggle": {
   "accelerator": "gpu",
   "dataSources": [],
   "dockerImageVersionId": 31090,
   "isGpuEnabled": true,
   "isInternetEnabled": true,
   "language": "python",
   "sourceType": "notebook"
  },
  "kernelspec": {
   "display_name": "Python 3",
   "language": "python",
   "name": "python3"
  },
  "language_info": {
   "codemirror_mode": {
    "name": "ipython",
    "version": 3
   },
   "file_extension": ".py",
   "mimetype": "text/x-python",
   "name": "python",
   "nbconvert_exporter": "python",
   "pygments_lexer": "ipython3",
   "version": "3.11.13"
  },
  "papermill": {
   "default_parameters": {},
   "duration": 349.978586,
   "end_time": "2025-09-29T06:31:44.832831",
   "environment_variables": {},
   "exception": null,
   "input_path": "__notebook__.ipynb",
   "output_path": "__notebook__.ipynb",
   "parameters": {},
   "start_time": "2025-09-29T06:25:54.854245",
   "version": "2.6.0"
  }
 },
 "nbformat": 4,
 "nbformat_minor": 5
}
